{
 "cells": [
  {
   "cell_type": "markdown",
   "metadata": {},
   "source": [
    "# Guessing Game Challenge\n",
    "\n",
    "Let's use `while` loops to create a guessing game.\n",
    "\n",
    "The Challenge:\n",
    "\n",
    "Write a program that picks a random integer from 1 to 100, and has players guess the number. The rules are:\n",
    "\n",
    "1. If a player's guess is less than 1 or greater than 100, say \"OUT OF BOUNDS\"\n",
    "2. On a player's first turn, if their guess is\n",
    " * within 10 of the number, return \"WARM!\"\n",
    " * further than 10 away from the number, return \"COLD!\"\n",
    "3. On all subsequent turns, if a guess is \n",
    " * closer to the number than the previous guess return \"WARMER!\"\n",
    " * farther from the number than the previous guess, return \"COLDER!\"\n",
    "4. When the player's guess equals the number, tell them they've guessed correctly *and* how many guesses it took!\n",
    "\n",
    "You can try this from scratch, or follow the steps outlined below. A separate Solution notebook has been provided. Good luck!\n"
   ]
  },
  {
   "cell_type": "markdown",
   "metadata": {},
   "source": [
    "#### First, pick a random integer from 1 to 100 using the random module and assign it to a variable\n",
    "\n",
    "Note: `random.randint(a,b)` returns a random integer in range `[a, b]`, including both end points."
   ]
  },
  {
   "cell_type": "code",
   "execution_count": null,
   "metadata": {},
   "outputs": [],
   "source": [
    "import random\n",
    "num = random.randint(1,100)"
   ]
  },
  {
   "cell_type": "markdown",
   "metadata": {},
   "source": [
    "#### Next, print an introduction to the game and explain the rules"
   ]
  },
  {
   "cell_type": "code",
   "execution_count": null,
   "metadata": {},
   "outputs": [],
   "source": [
    "print(\"Welcome to the Guessing Game Challenge.\")\n",
    "print(\"You have to guess a no between 1 and 100.\")\n",
    "print(\"In your guess will be more than 10 then I'll say, COLD.\")\n",
    "print(\"If your guess will be within 10, I'll say WARM.\")\n",
    "print(\"If your guess will be farther to your most recent guess, I'll say you're getting COLDER.\")\n",
    "print(\"If your guess will be closer to your most recent guess, I'll say you're getting WARMER.\")\n",
    "print(\"If your guess will be equal to the correct number then you will win and I'll let you know how many guesses you made.  \")\n",
    "print(\"Let's Roll\")"
   ]
  },
  {
   "cell_type": "markdown",
   "metadata": {},
   "source": [
    "#### Create a list to store guesses\n",
    "\n",
    "Hint: zero is a good placeholder value. It's useful because it evaluates to \"False\""
   ]
  },
  {
   "cell_type": "code",
   "execution_count": null,
   "metadata": {},
   "outputs": [],
   "source": [
    "guesses=[0]"
   ]
  },
  {
   "cell_type": "markdown",
   "metadata": {},
   "source": [
    "#### Write a `while` loop that asks for a valid guess. Test it a few times to make sure it works."
   ]
  },
  {
   "cell_type": "code",
   "execution_count": null,
   "metadata": {},
   "outputs": [],
   "source": [
    "while True:\n",
    "    \n",
    "    guess=int(input(\"Enter the number between 1 and 100: \"))\n",
    "    \n",
    "    if guess < 1 or guess > 100:\n",
    "        print(\"Out of Bounds\")\n",
    "        continue\n",
    "         "
   ]
  },
  {
   "cell_type": "markdown",
   "metadata": {},
   "source": [
    "Write a `while` loop that compares the player's guess to our number. If the player guesses correctly, break from the loop. Otherwise, tell the player if they're warmer or colder, and continue asking for guesses.\n",
    "\n",
    "Some hints:\n",
    "* it may help to sketch out all possible combinations on paper first!\n",
    "* you can use the `abs()` function to find the positive difference between two numbers\n",
    "* if you append all new guesses to the list, then the previous guess is given as `guesses[-2]`"
   ]
  },
  {
   "cell_type": "code",
   "execution_count": null,
   "metadata": {},
   "outputs": [
    {
     "name": "stdout",
     "output_type": "stream",
     "text": [
      "Welcome to the Guessing Game Challenge.\n",
      "You have to guess a no between 1 and 100.\n",
      "If your guess will be more than 10 then I'll say, COLD.\n",
      "If your guess will be within 10, I'll say WARM.\n",
      "If your guess will be farther to your most recent guess, I'll say you're getting COLDER.\n",
      "If your guess will be closer to your most recent guess, I'll say you're getting WARMER.\n",
      "If your guess will be equal to the correct number then you will win and I'll let you know how many guesses you made.  \n",
      "Let's Roll\n"
     ]
    }
   ],
   "source": [
    " import random\n",
    "num = random.randint(1,100)\n",
    "\n",
    "print(\"Welcome to the Guessing Game Challenge.\")\n",
    "print(\"You have to guess a no between 1 and 100.\")\n",
    "print(\"If your guess will be more than 10 then I'll say, COLD.\")\n",
    "print(\"If your guess will be within 10, I'll say WARM.\")\n",
    "print(\"If your guess will be farther to your most recent guess, I'll say you're getting COLDER.\")\n",
    "print(\"If your guess will be closer to your most recent guess, I'll say you're getting WARMER.\")\n",
    "print(\"If your guess will be equal to the correct number then you will win and I'll let you know how many guesses you made.  \")\n",
    "print(\"Let's Roll\")\n",
    "\n",
    "guesses=[0]\n",
    "\n",
    "while True:\n",
    "    \n",
    "    guess = int(input(\"Enter the number between 1 and 100: \"))\n",
    "    \n",
    "    if guess < 1 or guess > 100:\n",
    "        print(\"Out of Bounds\")\n",
    "        continue\n",
    "        \n",
    "    if guess == num:\n",
    "        print('CONGRATULATIONS, You Guessed It In Only {} GUESSES'.format(len(guesses)))\n",
    "        break\n",
    "        \n",
    "    guesses.append(guess)  \n",
    "    \n",
    "    \n",
    "    if guesses[-2]:  \n",
    "        if abs(num-guesses[-2]) > abs(num-guess):\n",
    "            print('WARMER!')\n",
    "        else:\n",
    "            print('COLDER!')\n",
    "   \n",
    "    else:\n",
    "        if abs(num-guess) <= 10:\n",
    "            print('WARM!')\n",
    "        else:\n",
    "            print('COLD!')"
   ]
  },
  {
   "cell_type": "markdown",
   "metadata": {},
   "source": [
    "That's it! You've just programmed your first game!\n",
    "\n",
    "In the next section we'll learn how to turn some of these repetitive actions into *functions* that can be called whenever we need them."
   ]
  },
  {
   "cell_type": "markdown",
   "metadata": {},
   "source": [
    "### Good Job!"
   ]
  }
 ],
 "metadata": {
  "kernelspec": {
   "display_name": "Python 3",
   "language": "python",
   "name": "python3"
  },
  "language_info": {
   "codemirror_mode": {
    "name": "ipython",
    "version": 3
   },
   "file_extension": ".py",
   "mimetype": "text/x-python",
   "name": "python",
   "nbconvert_exporter": "python",
   "pygments_lexer": "ipython3",
   "version": "3.7.6"
  }
 },
 "nbformat": 4,
 "nbformat_minor": 2
}
